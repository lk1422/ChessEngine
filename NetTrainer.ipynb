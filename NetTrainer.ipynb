{
 "cells": [
  {
   "cell_type": "code",
   "execution_count": 78,
   "id": "exceptional-zealand",
   "metadata": {},
   "outputs": [],
   "source": [
    "import torch\n",
    "import torch.nn.functional as F\n",
    "from torch import optim  # For optimizers like SGD, Adam, etc.\n",
    "from torch import nn\n",
    "from torch.utils.data import DataLoader  \n",
    "from torchvision import datasets\n",
    "import torchvision.transforms as transforms  # \n"
   ]
  },
  {
   "cell_type": "code",
   "execution_count": 79,
   "id": "thrown-jungle",
   "metadata": {},
   "outputs": [],
   "source": [
    "from Chess_Data import ChessData"
   ]
  },
  {
   "cell_type": "code",
   "execution_count": 80,
   "id": "silent-review",
   "metadata": {},
   "outputs": [
    {
     "data": {
      "text/plain": [
       "device(type='cuda')"
      ]
     },
     "execution_count": 80,
     "metadata": {},
     "output_type": "execute_result"
    }
   ],
   "source": [
    "device = torch.device('cuda') if torch.cuda.is_available() else 'cpu'\n",
    "device"
   ]
  },
  {
   "cell_type": "code",
   "execution_count": 92,
   "id": "4cab9b24",
   "metadata": {},
   "outputs": [],
   "source": [
    "class Test_Model(nn.Module):\n",
    "    def __init__(self):\n",
    "        super(Test_Model,self).__init__()\n",
    "        self.conv1 = nn.Conv2d(7,128, kernel_size=3,padding=1)\n",
    "        self.max = nn.MaxPool2d(2,2)\n",
    "        self.conv2 = nn.Conv2d(128,256, kernel_size=1)\n",
    "        self.linear = nn.Sequential(nn.Linear(4*256, 512), nn.ReLU(), nn.Linear(512,128),\n",
    "                                   nn.ReLU(), nn.Linear(128,64), nn.ReLU(), nn.Linear(64,2))\n",
    "        \n",
    "\n",
    "    def init_weights(self):\n",
    "        torch.nn.init.normal_(self.conv1.weight,0, 1e-7)\n",
    "        torch.nn.init.normal_(self.conv2.weight,0, 1e-7)\n",
    "        torch.nn.init.normal_(self.conv3.weight,0, 1e-7)\n",
    "        torch.nn.init.normal_(self.conv4.weight,0, 1e-6)\n",
    "    \n",
    "    def forward(self,x):\n",
    "        x = F.relu(self.conv1(x))\n",
    "        x = self.max(x)\n",
    "        x = F.relu(self.conv2(x))\n",
    "        x = self.max(x)\n",
    "        x = x.reshape(x.shape[0], -1)\n",
    "        x = self.linear(x)\n",
    "        \n",
    "        \n",
    "        return x\n",
    "\n",
    "\n",
    "        "
   ]
  },
  {
   "cell_type": "code",
   "execution_count": 93,
   "id": "integral-weight",
   "metadata": {},
   "outputs": [],
   "source": [
    "trainset =  ChessData('training.csv')\n",
    "trainloader= torch.utils.data.DataLoader(trainset, batch_size=16, shuffle=True, num_workers=0 )"
   ]
  },
  {
   "cell_type": "code",
   "execution_count": 94,
   "id": "loved-duncan",
   "metadata": {},
   "outputs": [],
   "source": [
    "def train(model,criterion,optimizer,num_epochs,trainloader):\n",
    "    \n",
    "    for epoch in range(num_epochs):\n",
    "        running_loss=0.0\n",
    "        \n",
    "        for i , (  targets, data) in enumerate(trainloader):\n",
    "            \n",
    "            data = data.to(device)\n",
    "            targets= targets.to(device)\n",
    "            targets = targets.to(torch.int64)\n",
    "\n",
    "            #forward prop\n",
    "            scores = model(data).squeeze()\n",
    "            \n",
    "\n",
    "            loss = criterion(scores, targets)\n",
    "\n",
    "            #backprop\n",
    "            optimizer.zero_grad()\n",
    "            loss.backward()\n",
    "\n",
    "            #take step\n",
    "            optimizer.step()\n",
    "            losss= loss.item()\n",
    "            \n",
    "            running_loss+=losss\n",
    "            \n",
    "            \n",
    "           \n",
    "            if i %500==499:\n",
    "                print('[%d,%5d] loss: %.3f' % (epoch+1 , i+1, running_loss/500))\n",
    "                running_loss=0.0\n",
    "            if i % 2000 == 1999: \n",
    "                print(\"Train accuracy: \"+ str(check_accuracy(trainloader, model)*100))\n",
    "               # print(\"Test accuracy: \"+ str(check_accuracy(testloader, model)*100))\n",
    "            "
   ]
  },
  {
   "cell_type": "code",
   "execution_count": 95,
   "id": "advised-aurora",
   "metadata": {},
   "outputs": [],
   "source": [
    "def check_accuracy(loader, model, full=False):\n",
    "    num_correct = 0\n",
    "    num_samples = 0\n",
    "    model.eval()\n",
    "\n",
    "    with torch.no_grad():\n",
    "        for  i ,( y, x) in enumerate(loader):\n",
    "            if i >100 and not full:\n",
    "\n",
    "                return num_correct/num_samples\n",
    "            x = x.to(device)\n",
    "            y = y.to(device)\n",
    "            y =y.to(torch.int64)\n",
    "           \n",
    "\n",
    "            scores = model(x)\n",
    "            \n",
    "            \n",
    "            _, predictions = scores.max(1)\n",
    "            \n",
    "            num_correct += (predictions == y).sum()\n",
    "            \n",
    "         \n",
    "            \n",
    "            \n",
    "            num_samples += predictions.size(0)\n",
    "\n",
    "    model.train()\n",
    "    return num_correct/num_samples"
   ]
  },
  {
   "cell_type": "code",
   "execution_count": 96,
   "id": "literary-budapest",
   "metadata": {},
   "outputs": [],
   "source": [
    "my_model = Test_Model().to(device)"
   ]
  },
  {
   "cell_type": "code",
   "execution_count": null,
   "id": "broke-canada",
   "metadata": {},
   "outputs": [
    {
     "name": "stdout",
     "output_type": "stream",
     "text": [
      "[1,  500] loss: 0.541\n",
      "[1, 1000] loss: 0.537\n",
      "[1, 1500] loss: 0.541\n",
      "[1, 2000] loss: 0.548\n",
      "Train accuracy: tensor(71.4728, device='cuda:0')\n",
      "[1, 2500] loss: 0.535\n",
      "[1, 3000] loss: 0.542\n",
      "[1, 3500] loss: 0.534\n",
      "[1, 4000] loss: 0.538\n",
      "Train accuracy: tensor(73.1436, device='cuda:0')\n",
      "[1, 4500] loss: 0.540\n"
     ]
    }
   ],
   "source": [
    "\n",
    "\n",
    "batch_size = 16\n",
    "learning_rate = 1e-8\n",
    "num_epochs = 10\n",
    "criterion3 = nn.CrossEntropyLoss()\n",
    "optimizer3=optim.Adam(my_model.parameters(),lr=learning_rate)\n",
    "#optimizer3 = optim.SGD(my_model.parameters(),lr=learning_rate,momentum=.9)\n",
    "num_epochs=15\n",
    "train(my_model,criterion3,optimizer3,num_epochs,trainloader)\n",
    "\n",
    "#check_accuracy(trainloader, my_model)"
   ]
  },
  {
   "cell_type": "code",
   "execution_count": 77,
   "id": "lasting-collar",
   "metadata": {},
   "outputs": [],
   "source": [
    "torch.save(my_model.state_dict(), './Prototype2.0-Adam-SGD-1C5L0B-4.pth')\n"
   ]
  },
  {
   "cell_type": "code",
   "execution_count": null,
   "id": "private-indonesia",
   "metadata": {},
   "outputs": [],
   "source": [
    "test_model = Test_Model().to(device)\n",
    "test_model.load_state_dict(torch.load('./Prototype1.0-Adam/SGD-2C3L0B-1.pth'))\n",
    "check_accuracy(trainloader, test_model, full=True)"
   ]
  },
  {
   "cell_type": "code",
   "execution_count": null,
   "id": "9ddff75c",
   "metadata": {},
   "outputs": [],
   "source": [
    "'''./Prototype2.0-Adam-SGD-1C5L0B-2.pth\n",
    "class Test_Model(nn.Module):\n",
    "    def __init__(self):\n",
    "        super(Test_Model,self).__init__()\n",
    "        self.conv1 = nn.Conv2d(7,128, kernel_size=3,stride=1)\n",
    "        self.max = nn.MaxPool2d(2,2)\n",
    "        self.linear = nn.Sequential(nn.Linear(1152, 512), nn.ReLU(), nn.Linear(512,512), nn.ReLU(), nn.Linear(512,128),\n",
    "                                   nn.ReLU(), nn.Linear(128,64), nn.ReLU(), nn.Linear(64,2))\n",
    "        \n",
    "\n",
    "    def init_weights(self):\n",
    "        torch.nn.init.normal_(self.conv1.weight,0, 1e-7)\n",
    "        torch.nn.init.normal_(self.conv2.weight,0, 1e-7)\n",
    "        torch.nn.init.normal_(self.conv3.weight,0, 1e-7)\n",
    "        torch.nn.init.normal_(self.conv4.weight,0, 1e-6)\n",
    "    \n",
    "    def forward(self,x):\n",
    "        x = F.relu(self.conv1(x))\n",
    "        x = self.max(x)\n",
    "        x = x.reshape(x.shape[0], -1)\n",
    "        print(x.shape)\n",
    "        x = self.linear(x)\n",
    "        \n",
    "        \n",
    "        return x\n",
    "'''\n"
   ]
  }
 ],
 "metadata": {
  "kernelspec": {
   "display_name": "Chess_Enviorment",
   "language": "python",
   "name": "chess_enviorment"
  },
  "language_info": {
   "codemirror_mode": {
    "name": "ipython",
    "version": 3
   },
   "file_extension": ".py",
   "mimetype": "text/x-python",
   "name": "python",
   "nbconvert_exporter": "python",
   "pygments_lexer": "ipython3",
   "version": "3.8.5"
  }
 },
 "nbformat": 4,
 "nbformat_minor": 5
}
