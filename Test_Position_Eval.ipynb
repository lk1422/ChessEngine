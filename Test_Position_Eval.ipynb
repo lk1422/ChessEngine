{
 "cells": [
  {
   "cell_type": "code",
   "execution_count": 1,
   "id": "sustainable-snapshot",
   "metadata": {},
   "outputs": [
    {
     "data": {
      "text/plain": [
       "device(type='cuda')"
      ]
     },
     "execution_count": 1,
     "metadata": {},
     "output_type": "execute_result"
    }
   ],
   "source": [
    "import chess\n",
    "import torch\n",
    "import torch.nn.functional as F\n",
    "from torch import optim  # For optimizers like SGD, Adam, etc.\n",
    "from torch import nn\n",
    "from torch.utils.data import DataLoader  \n",
    "\n",
    "device= torch.device('cuda')\n",
    "device"
   ]
  },
  {
   "cell_type": "code",
   "execution_count": 9,
   "id": "permanent-isaac",
   "metadata": {},
   "outputs": [],
   "source": [
    "\n",
    "class Test_Model(nn.Module):\n",
    "    def __init__(self):\n",
    "        super(Test_Model,self).__init__()\n",
    "        self.conv1 = nn.Conv2d(7,128, kernel_size=3,stride=1)\n",
    "        self.max = nn.MaxPool2d(2,2)\n",
    "        self.linear = nn.Sequential(nn.Linear(1152, 512), nn.ReLU(), nn.Linear(512,512), nn.ReLU(), nn.Linear(512,128),\n",
    "                                   nn.ReLU(), nn.Linear(128,64), nn.ReLU(), nn.Linear(64,2))\n",
    "        \n",
    "\n",
    "    def init_weights(self):\n",
    "        torch.nn.init.normal_(self.conv1.weight,0, 1e-7)\n",
    "        torch.nn.init.normal_(self.conv2.weight,0, 1e-7)\n",
    "        torch.nn.init.normal_(self.conv3.weight,0, 1e-7)\n",
    "        torch.nn.init.normal_(self.conv4.weight,0, 1e-6)\n",
    "    \n",
    "    def forward(self,x):\n",
    "        x = F.relu(self.conv1(x))\n",
    "        x = self.max(x)\n",
    "        x = x.reshape(x.shape[0], -1)\n",
    "        print(x.shape)\n",
    "        x = self.linear(x)\n",
    "        \n",
    "        \n",
    "        return x\n"
   ]
  },
  {
   "cell_type": "code",
   "execution_count": 24,
   "id": "informational-ordinary",
   "metadata": {
    "scrolled": true
   },
   "outputs": [
    {
     "data": {
      "text/plain": [
       "Test_Model(\n",
       "  (conv1): Conv2d(7, 128, kernel_size=(3, 3), stride=(1, 1))\n",
       "  (max): MaxPool2d(kernel_size=2, stride=2, padding=0, dilation=1, ceil_mode=False)\n",
       "  (linear): Sequential(\n",
       "    (0): Linear(in_features=1152, out_features=512, bias=True)\n",
       "    (1): ReLU()\n",
       "    (2): Linear(in_features=512, out_features=512, bias=True)\n",
       "    (3): ReLU()\n",
       "    (4): Linear(in_features=512, out_features=128, bias=True)\n",
       "    (5): ReLU()\n",
       "    (6): Linear(in_features=128, out_features=64, bias=True)\n",
       "    (7): ReLU()\n",
       "    (8): Linear(in_features=64, out_features=2, bias=True)\n",
       "  )\n",
       ")"
      ]
     },
     "execution_count": 24,
     "metadata": {},
     "output_type": "execute_result"
    }
   ],
   "source": [
    "testing_model = Test_Model().to(device)\n",
    "\n",
    "testing_model.load_state_dict(torch.load('./previous_models/Prototype2.0-Adam-SGD-1C5L0B-4.pth'))\n",
    "\n",
    "testing_model.eval()"
   ]
  },
  {
   "cell_type": "code",
   "execution_count": 38,
   "id": "standard-spank",
   "metadata": {},
   "outputs": [
    {
     "name": "stdout",
     "output_type": "stream",
     "text": [
      ". . . . . r k .\n",
      ". . . . . p p p\n",
      "p . . . . . . .\n",
      ". p Q . . . . .\n",
      ". . . . P B b .\n",
      ". . . P . . . .\n",
      "P P . . . . . q\n",
      "R . . . K . R .\n",
      "torch.Size([1, 1152])\n"
     ]
    },
    {
     "data": {
      "text/plain": [
       "tensor([[0.6351, 0.3649]], device='cuda:0', grad_fn=<SoftmaxBackward0>)"
      ]
     },
     "execution_count": 38,
     "metadata": {},
     "output_type": "execute_result"
    }
   ],
   "source": [
    "from Utils import convert_Fen\n",
    "\n",
    "net_in = convert_Fen('5rk1/5ppp/p7/1pQ5/4PBb1/3P4/PP5q/R3K1R1 b Q - 2 21').to(device).unsqueeze(0)\n",
    "\n",
    "e = testing_model(net_in)\n",
    "F.softmax(e,dim=1)"
   ]
  },
  {
   "cell_type": "code",
   "execution_count": null,
   "id": "rubber-internship",
   "metadata": {},
   "outputs": [],
   "source": []
  }
 ],
 "metadata": {
  "kernelspec": {
   "display_name": "Chess_Enviorment",
   "language": "python",
   "name": "chess_enviorment"
  },
  "language_info": {
   "codemirror_mode": {
    "name": "ipython",
    "version": 3
   },
   "file_extension": ".py",
   "mimetype": "text/x-python",
   "name": "python",
   "nbconvert_exporter": "python",
   "pygments_lexer": "ipython3",
   "version": "3.8.5"
  }
 },
 "nbformat": 4,
 "nbformat_minor": 5
}
